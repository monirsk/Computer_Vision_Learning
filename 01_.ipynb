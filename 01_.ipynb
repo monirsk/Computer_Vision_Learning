{
  "nbformat": 4,
  "nbformat_minor": 0,
  "metadata": {
    "colab": {
      "provenance": [],
      "authorship_tag": "ABX9TyPRJRLh28WF7ZYWHVAxGvQ6",
      "include_colab_link": true
    },
    "kernelspec": {
      "name": "python3",
      "display_name": "Python 3"
    },
    "language_info": {
      "name": "python"
    }
  },
  "cells": [
    {
      "cell_type": "markdown",
      "metadata": {
        "id": "view-in-github",
        "colab_type": "text"
      },
      "source": [
        "<a href=\"https://colab.research.google.com/github/monirsk/Computer_Vision_Learning/blob/main/01_.ipynb\" target=\"_parent\"><img src=\"https://colab.research.google.com/assets/colab-badge.svg\" alt=\"Open In Colab\"/></a>"
      ]
    },
    {
      "cell_type": "code",
      "execution_count": 3,
      "metadata": {
        "colab": {
          "base_uri": "https://localhost:8080/"
        },
        "id": "UJ43716qKKQ1",
        "outputId": "7474c193-502d-439a-d9d1-3ed4d4b26f27"
      },
      "outputs": [
        {
          "output_type": "execute_result",
          "data": {
            "text/plain": [
              "tf.float32"
            ]
          },
          "metadata": {},
          "execution_count": 3
        }
      ],
      "source": [
        "import tensorflow as tf\n",
        "\n",
        "# Changing datatype of tensor\n",
        "B = tf.constant([1.8, 7.4])\n",
        "B.dtype"
      ]
    },
    {
      "cell_type": "code",
      "source": [
        "# flaot32 to float16 (reduced precision)\n",
        "D = tf.cast(B, dtype=tf.float16)\n",
        "print(D.dtype)"
      ],
      "metadata": {
        "colab": {
          "base_uri": "https://localhost:8080/"
        },
        "id": "8ia3ZZAzKbJL",
        "outputId": "c72c0ac9-8b99-42f7-d5c1-c32299a05f5f"
      },
      "execution_count": 4,
      "outputs": [
        {
          "output_type": "stream",
          "name": "stdout",
          "text": [
            "<dtype: 'float16'>\n"
          ]
        }
      ]
    },
    {
      "cell_type": "code",
      "source": [],
      "metadata": {
        "id": "hJHQG6GkKXCc"
      },
      "execution_count": null,
      "outputs": []
    },
    {
      "cell_type": "markdown",
      "source": [
        "# Aggregating Tensor"
      ],
      "metadata": {
        "id": "boID2PlqMX54"
      }
    },
    {
      "cell_type": "code",
      "source": [],
      "metadata": {
        "id": "4UaXf2eVMaY1"
      },
      "execution_count": null,
      "outputs": []
    }
  ]
}